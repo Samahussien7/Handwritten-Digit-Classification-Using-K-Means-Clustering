{
  "cells": [
    {
      "cell_type": "code",
      "execution_count": null,
      "metadata": {
        "colab": {
          "base_uri": "https://localhost:8080/"
        },
        "id": "9wo9rMs1lKYy",
        "outputId": "bb1d2b76-3441-4e1a-aa4f-caa96479b600"
      },
      "outputs": [
        {
          "output_type": "stream",
          "name": "stdout",
          "text": [
            "Downloading data from https://storage.googleapis.com/tensorflow/tf-keras-datasets/mnist.npz\n",
            "11490434/11490434 [==============================] - 0s 0us/step\n"
          ]
        }
      ],
      "source": [
        "import numpy as np\n",
        "from keras.datasets import mnist\n",
        "from sklearn.model_selection import train_test_split\n",
        "from sklearn.svm import SVC\n",
        "from sklearn.metrics import accuracy_score\n",
        "\n",
        "(X_train, y_train), (X_test, y_test) = mnist.load_data()\n",
        "X_train, X_test, y_train, y_test = train_test_split(X_train, y_train, test_size=0.2, random_state=42)\n",
        "\n",
        "img= X_train"
      ]
    },
    {
      "cell_type": "markdown",
      "metadata": {
        "id": "4JItbg5ikxLH"
      },
      "source": [
        "# *Centroid*"
      ]
    },
    {
      "cell_type": "code",
      "execution_count": null,
      "metadata": {
        "id": "3Cznk0j3k2-a"
      },
      "outputs": [],
      "source": [
        "def get_block(images, num_blocks_x, num_blocks_y):\n",
        "\n",
        "    rows, cols = images.shape[1:]\n",
        "\n",
        "    block_size_rows = rows // num_blocks_x\n",
        "    block_size_cols = cols // num_blocks_y\n",
        "\n",
        "    images_blocks=[]\n",
        "\n",
        "    # Slice the image matrix into blocks\n",
        "\n",
        "    for image in (images):\n",
        "        sliced_blocks = []\n",
        "        for i in range(num_blocks_x):\n",
        "            for j in range(num_blocks_y):\n",
        "             block = image[i * block_size_rows: (i + 1) * block_size_rows, j * block_size_cols: (j + 1) * block_size_cols]\n",
        "             sliced_blocks.append(block)\n",
        "\n",
        "        images_blocks.append(sliced_blocks)\n",
        "    images_blocks=np.array(images_blocks)\n",
        "\n",
        "    return images_blocks\n",
        "\n",
        "def X_bar(img):\n",
        "\n",
        " XY=[]\n",
        " for i in range (len(img)):\n",
        "    feature_vector=[]\n",
        "    for block in range(len(img[i])):\n",
        "        x_bar=0\n",
        "        y_bar=0\n",
        "        denomenator=np.sum(img[i][block])\n",
        "\n",
        "        numerator1=0\n",
        "        for x in range(len(img[i][block])):\n",
        "            for y in range (len(img[i][block][x])):\n",
        "                numerator1=x*img[i][block][x][y]+numerator1\n",
        "\n",
        "        numerator2=0\n",
        "        for y in range(img.shape[3]):\n",
        "            for x in range (img.shape[2]):\n",
        "                numerator2=y*img[i][block][x][y]+numerator2\n",
        "\n",
        "        if denomenator != 0:\n",
        "           x_bar = numerator1 / denomenator\n",
        "           y_bar = numerator2 / denomenator\n",
        "        else:\n",
        "           x_bar = 0\n",
        "           y_bar = 0\n",
        "        feature_vector.append(x_bar)\n",
        "        feature_vector.append(y_bar)\n",
        "    feature_vector=np.array(feature_vector)\n",
        "\n",
        "    XY.append(feature_vector)\n",
        "\n",
        "\n",
        " XY=np.array(XY)\n",
        " return XY\n",
        "num_blocks_x =4\n",
        "num_blocks_y =4\n",
        "X_train_block=get_block(X_train,num_blocks_x, num_blocks_y)\n",
        "#X_test=get_block(X_test,num_blocks_x, num_blocks_y)\n",
        "X_cent_train=X_bar(X_train_block)\n",
        "#X_cent_test=X_bar(X_test)"
      ]
    },
    {
      "cell_type": "markdown",
      "metadata": {
        "id": "lNbeWIl6kdgc"
      },
      "source": [
        "# *Chain code*"
      ]
    },
    {
      "cell_type": "code",
      "execution_count": null,
      "metadata": {
        "id": "BWvvNiGuksHG"
      },
      "outputs": [],
      "source": [
        "import numpy as np\n",
        "from keras.datasets import mnist\n",
        "import matplotlib.pyplot as plt\n",
        "def get_Boundary(img):\n",
        "  from skimage.measure import find_contours\n",
        "  contours = find_contours(img, 0.5)\n",
        "  binary_contours = np.zeros_like(img, dtype=np.uint8)\n",
        "\n",
        "  for contour in contours:\n",
        "      contour = np.round(contour).astype(int)\n",
        "      binary_contours[contour[:, 0], contour[:, 1]] = 1\n",
        "  return binary_contours\n",
        "\n",
        "def findChainCode(Boundary):\n",
        "    sz = Boundary.shape\n",
        "    sy, sx = np.where(Boundary == 1)\n",
        "    startPt = [sy[0], sx[0]]\n",
        "    currentPt = startPt\n",
        "    #directions = np.array([[1, 0], [1, 1], [0, 1], [-1, 1], [-1, 0], [-1, -1], [0, -1], [1, -1]])\n",
        "    directions = np.array([[0, 1], [-1, 1], [-1, 0], [-1, -1], [0, -1], [1, -1], [1, 0], [1, 1]])\n",
        "    dir = 0\n",
        "    n=0\n",
        "    chainCodeIndex = 0\n",
        "    chainCode = []\n",
        "\n",
        "    while True:\n",
        "        for i in range(8):\n",
        "            nextPt = currentPt + directions[dir]\n",
        "            validPosn = 0\n",
        "            #print(\"dir\",currentPt)\n",
        "\n",
        "            if (0 < nextPt[0] < sz[0]) and (0 < nextPt[1] < sz[1]):\n",
        "                validPosn = 1\n",
        "\n",
        "            if validPosn and Boundary[nextPt[0], nextPt[1]] == 1:\n",
        "                chainCode.append(dir)\n",
        "                chainCodeIndex += 1\n",
        "                currentPt = nextPt\n",
        "                #dir = dir - 3\n",
        "                #print(currentPt)\n",
        "\n",
        "                if dir < 0:\n",
        "                    dir += 8\n",
        "                break\n",
        "            else:\n",
        "                #print(currentPt)\n",
        "                dir = dir + 1\n",
        "\n",
        "                if dir >= 8:\n",
        "                    dir = 0\n",
        "\n",
        "        if np.array_equal(currentPt, startPt):\n",
        "            break\n",
        "                n=n+1\n",
        "        if n>=600:\n",
        "          return np.array(chainCode)\n",
        "\n",
        "    return np.array(chainCode)\n",
        "\n",
        "def first_difference(chain_code):\n",
        "    # Calculate the first difference of the chain code\n",
        "    first_diff = np.roll(chain_code, -1) - chain_code\n",
        "    first_diff[first_diff <= -1] += 8\n",
        "    # Move the last element to the beginning of the array\n",
        "    first_diff = np.roll(first_diff, 1)\n",
        "\n",
        "    return first_diff\n",
        "\n",
        "def circular_difference(chain_code):\n",
        "    # Calculate the circular difference after a minimum circular shift\n",
        "    min_shift = min(chain_code)\n",
        "    min_shift_index = np.where(chain_code == min_shift)[0][0]\n",
        "    circular_diff = np.roll(chain_code, -min_shift_index)\n",
        "    return circular_diff\n",
        "def extract_chain_code_features(images):\n",
        "    features = []\n",
        "    for image in images:\n",
        "        bound = get_Boundary(image)\n",
        "        chain_code = findChainCode(bound)\n",
        "        features.append(chain_code)\n",
        "    return features\n",
        "X_train_ = extract_chain_code_features(X_train)\n",
        "X_test_ = extract_chain_code_features(X_test)\n",
        "max_length = max(len(vec) for vec in X_train_)\n",
        "\n",
        "# Pad or truncate feature vectors to ensure consistent length\n",
        "#train_features = [vec + [0] * (max_length - len(vec)) for vec in X_train]\n",
        "X_chain_train = [np.pad(vec, (0, max_length - len(vec)), mode='constant') for vec in X_train_]\n",
        "# Convert to numpy array\n",
        "X_chain_train = np.array(X_chain_train)\n",
        "\n",
        "#max_length = max(len(vec) for vec in X_test)\n",
        "\n",
        "# Pad or truncate feature vectors to ensure consistent length\n",
        "X_chain_test = [np.pad(vec, (0, max_length - len(vec)), mode='constant') for vec in X_test_]\n",
        "# Convert to numpy array\n",
        "X_chain_test = np.array(X_chain_test)"
      ]
    },
    {
      "cell_type": "code",
      "source": [
        "import numpy as np\n",
        "import matplotlib.pyplot as plt\n",
        "def getImgBoundary(bw_img):\n",
        "    sz = np.shape(bw_img)\n",
        "    boundaryImg = np.zeros(sz)\n",
        "    imgPadded = np.zeros((sz[0] + 2, sz[1] + 2))\n",
        "    imgPadded[1:-1, 1:-1] = bw_img\n",
        "    for i in range(1, sz[0] + 1):\n",
        "        for j in range(1, sz[1] + 1):\n",
        "            if imgPadded[i, j]:\n",
        "                if not imgPadded[i - 1, j] or not imgPadded[i + 1, j] or not imgPadded[i, j - 1] or not imgPadded[\n",
        "                    i, j + 1]:\n",
        "                    boundaryImg[i - 1, j - 1] = 1\n",
        "    return boundaryImg\n",
        "\n",
        "img = np.array([[0, 0, 0, 0, 0, 0, 0, 0, 0, 0, 0],\n",
        "                [0, 0, 1, 1, 1, 1, 1, 1, 1, 0, 0],\n",
        "                [0, 1, 1, 1, 1, 1, 1, 1, 1, 1, 0],\n",
        "                [0, 1, 1, 1, 1, 1, 1, 1, 1, 0, 0],\n",
        "                [0, 1, 1, 1, 0, 0, 0, 0, 0, 0, 0],\n",
        "                [0, 1, 1, 1, 1, 1, 1, 1, 0, 0, 0],\n",
        "                [0, 1, 1, 1, 1, 1, 1, 1, 1, 0, 0],\n",
        "                [0, 0, 1, 1, 1, 1, 1, 1, 1, 1, 0],\n",
        "                [0, 0, 0, 0, 0, 0, 0, 1, 1, 1, 0],\n",
        "                [0, 0, 0, 0, 0, 0, 0, 1, 1, 1, 0],\n",
        "                [0, 0, 1, 1, 1, 1, 1, 1, 1, 1, 0],\n",
        "                [0, 1, 1, 1, 1, 1, 1, 1, 1, 0, 0],\n",
        "                [0, 0, 1, 1, 1, 1, 1, 1, 0, 0, 0]])\n",
        "\n",
        "boundaryImg = getImgBoundary(img)\n",
        "print(boundaryImg)\n",
        "fig, axs = plt.subplots(1, 2)\n",
        "axs[0].imshow(img, cmap='gray')\n",
        "axs[0].set_title('Original image')\n",
        "axs[1].imshow(boundaryImg, cmap='gray')\n",
        "axs[1].set_title('Image boundaries')\n",
        "plt.show()\n",
        "\n",
        "chCode, chMap = findChainCode(boundaryImg)\n",
        "\n",
        "chMap -= 1\n",
        "#chCode = 1  # 0 to 7 instead of 1 to 8\n",
        "\n",
        "# Calculate first difference\n",
        "first_diff = first_difference(chCode)\n",
        "\n",
        "# Calculate circular difference\n",
        "circular_diff = circular_difference(first_diff)\n",
        "\n",
        "print(\"Chain Code:\", chCode)\n",
        "\n",
        "print(\"First Difference:\", first_diff)\n",
        "print(\"Circular Difference after minimum circular shift:\", circular_diff)\n"
      ],
      "metadata": {
        "colab": {
          "base_uri": "https://localhost:8080/",
          "height": 694
        },
        "id": "v2gdRbpaIcTw",
        "outputId": "581843b9-a7ee-41d2-dad6-c83a5f525d3d"
      },
      "execution_count": null,
      "outputs": [
        {
          "output_type": "stream",
          "name": "stdout",
          "text": [
            "[[0. 0. 0. 0. 0. 0. 0. 0. 0. 0. 0.]\n",
            " [0. 0. 1. 1. 1. 1. 1. 1. 1. 0. 0.]\n",
            " [0. 1. 0. 0. 0. 0. 0. 0. 0. 1. 0.]\n",
            " [0. 1. 0. 0. 1. 1. 1. 1. 1. 0. 0.]\n",
            " [0. 1. 0. 1. 0. 0. 0. 0. 0. 0. 0.]\n",
            " [0. 1. 0. 0. 1. 1. 1. 1. 0. 0. 0.]\n",
            " [0. 1. 0. 0. 0. 0. 0. 0. 1. 0. 0.]\n",
            " [0. 0. 1. 1. 1. 1. 1. 0. 0. 1. 0.]\n",
            " [0. 0. 0. 0. 0. 0. 0. 1. 0. 1. 0.]\n",
            " [0. 0. 0. 0. 0. 0. 0. 1. 0. 1. 0.]\n",
            " [0. 0. 1. 1. 1. 1. 1. 0. 0. 1. 0.]\n",
            " [0. 1. 0. 0. 0. 0. 0. 0. 1. 0. 0.]\n",
            " [0. 0. 1. 1. 1. 1. 1. 1. 0. 0. 0.]]\n"
          ]
        },
        {
          "output_type": "display_data",
          "data": {
            "text/plain": [
              "<Figure size 640x480 with 2 Axes>"
            ],
            "image/png": "[encoded data removed]"
          },
          "metadata": {}
        },
        {
          "output_type": "stream",
          "name": "stdout",
          "text": [
            "Chain Code: [0 0 0 0 0 0 7 5 4 4 4 4 5 7 0 0 0 7 7 6 6 6 5 5 4 4 4 4 4 3 1 0 0 0 0 1 2\n",
            " 3 4 4 4 4 3 2 2 2 2 1]\n",
            "First Difference: [7 0 0 0 0 0 7 6 7 0 0 0 1 2 1 0 0 7 0 7 0 0 7 0 7 0 0 0 0 7 6 7 0 0 0 1 1\n",
            " 1 1 0 0 0 7 7 0 0 0 7]\n",
            "Circular Difference after minimum circular shift: [0 0 0 0 0 7 6 7 0 0 0 1 2 1 0 0 7 0 7 0 0 7 0 7 0 0 0 0 7 6 7 0 0 0 1 1 1\n",
            " 1 0 0 0 7 7 0 0 0 7 7]\n"
          ]
        }
      ]
    },
    {
      "cell_type": "code",
      "source": [
        "bound = get_Boundary(X_train[3])\n",
        "chainCode,_ = findChainCode(bound)\n",
        "print(\"chain_code\",chainCode)\n",
        "first_diff_ = first_difference(chainCode)\n",
        "print(\"first_diff_\",first_diff_)\n",
        "print(\"circular_difference\",circular_difference(first_diff_))\n",
        "\n",
        "fig, axs = plt.subplots(1, 2)\n",
        "axs[0].imshow(X_train[3], cmap='gray')\n",
        "axs[0].set_title('Original image')\n",
        "axs[1].imshow(bound, cmap='gray')\n",
        "axs[1].set_title('Image boundaries')\n",
        "plt.show()\n",
        "print(bound)"
      ],
      "metadata": {
        "colab": {
          "base_uri": "https://localhost:8080/",
          "height": 925
        },
        "id": "QhZtA1X7IcQY",
        "outputId": "f56963ed-ccef-47f2-cca2-fa94a5655334"
      },
      "execution_count": null,
      "outputs": [
        {
          "output_type": "stream",
          "name": "stdout",
          "text": [
            "chain_code [0 0 7 7 6 5 5 4 5 5 5 5 6 5 5 1 0 0 0 7 7 6 6 6 5 6 5 4 5 5 4 4 4 4 4 4 3\n",
            " 3 3 2 2 2 1 2 1 1 1 1 1 2 1 1 1 1 1 1 1]\n",
            "first_diff_ [7 0 7 0 7 7 0 7 1 0 0 0 1 7 0 4 7 0 0 7 0 7 0 0 7 1 7 7 1 0 7 0 0 0 0 0 7\n",
            " 0 0 7 0 0 7 1 7 0 0 0 0 1 7 0 0 0 0 0 0]\n",
            "circular_difference [0 7 0 7 7 0 7 1 0 0 0 1 7 0 4 7 0 0 7 0 7 0 0 7 1 7 7 1 0 7 0 0 0 0 0 7 0\n",
            " 0 7 0 0 7 1 7 0 0 0 0 1 7 0 0 0 0 0 0 7]\n"
          ]
        },
        {
          "output_type": "display_data",
          "data": {
            "text/plain": [
              "<Figure size 640x480 with 2 Axes>"
            ],
            "image/png": "[encoded data removed]"
          },
          "metadata": {}
        },
        {
          "output_type": "stream",
          "name": "stdout",
          "text": [
            "[[0 0 0 0 0 0 0 0 0 0 0 0 0 0 0 0 0 0 0 0 0 0 0 0 0 0 0 0]\n",
            " [0 0 0 0 0 0 0 0 0 0 0 0 0 0 0 0 0 0 0 0 0 0 0 0 0 0 0 0]\n",
            " [0 0 0 0 0 0 0 0 0 0 0 0 0 0 0 0 0 0 0 1 1 1 0 0 0 0 0 0]\n",
            " [0 0 0 0 0 0 0 0 0 0 0 0 0 0 0 0 0 0 1 0 0 0 1 0 0 0 0 0]\n",
            " [0 0 0 0 0 0 0 0 0 0 0 0 0 0 0 0 0 1 0 0 0 0 0 1 0 0 0 0]\n",
            " [0 0 0 0 0 0 0 0 0 0 0 0 0 0 0 0 1 0 0 0 0 0 0 1 0 0 0 0]\n",
            " [0 0 0 0 0 0 0 0 0 0 0 0 0 0 0 1 0 0 0 0 0 0 1 0 0 0 0 0]\n",
            " [0 0 0 0 0 0 0 0 0 0 0 0 0 0 1 0 0 0 0 0 1 1 0 0 0 0 0 0]\n",
            " [0 0 0 0 0 0 0 0 0 0 0 0 0 1 0 0 0 0 0 1 0 0 0 0 0 0 0 0]\n",
            " [0 0 0 0 0 0 0 0 0 0 0 0 1 0 0 0 0 0 1 0 0 0 0 0 0 0 0 0]\n",
            " [0 0 0 0 0 0 0 0 0 0 0 0 1 0 0 0 0 1 0 0 0 0 0 0 0 0 0 0]\n",
            " [0 0 0 0 0 0 0 0 0 0 0 1 0 0 0 0 1 0 0 0 0 0 0 0 0 0 0 0]\n",
            " [0 0 0 0 0 0 0 0 0 0 1 0 0 0 0 0 1 0 0 0 0 0 0 0 0 0 0 0]\n",
            " [0 0 0 0 0 0 0 0 0 1 0 0 0 0 0 1 1 1 1 0 0 0 0 0 0 0 0 0]\n",
            " [0 0 0 0 0 0 0 0 1 0 0 0 0 0 1 0 0 0 0 1 0 0 0 0 0 0 0 0]\n",
            " [0 0 0 0 0 0 0 1 0 0 0 0 0 0 0 0 0 0 0 0 1 0 0 0 0 0 0 0]\n",
            " [0 0 0 0 0 0 0 1 0 0 0 0 0 0 0 0 0 0 0 0 1 0 0 0 0 0 0 0]\n",
            " [0 0 0 0 0 0 1 0 0 0 0 0 0 0 0 0 1 0 0 0 1 0 0 0 0 0 0 0]\n",
            " [0 0 0 0 0 0 1 0 0 0 0 0 0 0 1 0 0 0 0 0 1 0 0 0 0 0 0 0]\n",
            " [0 0 0 0 0 0 1 0 0 0 0 0 0 1 1 0 0 0 0 1 0 0 0 0 0 0 0 0]\n",
            " [0 0 0 0 0 0 1 0 0 0 0 0 0 0 0 0 0 0 0 1 0 0 0 0 0 0 0 0]\n",
            " [0 0 0 0 0 0 0 1 0 0 0 0 0 0 0 0 0 1 1 0 0 0 0 0 0 0 0 0]\n",
            " [0 0 0 0 0 0 0 0 1 0 0 0 0 0 0 0 1 0 0 0 0 0 0 0 0 0 0 0]\n",
            " [0 0 0 0 0 0 0 0 0 1 1 1 1 1 1 1 0 0 0 0 0 0 0 0 0 0 0 0]\n",
            " [0 0 0 0 0 0 0 0 0 0 0 0 0 0 0 0 0 0 0 0 0 0 0 0 0 0 0 0]\n",
            " [0 0 0 0 0 0 0 0 0 0 0 0 0 0 0 0 0 0 0 0 0 0 0 0 0 0 0 0]\n",
            " [0 0 0 0 0 0 0 0 0 0 0 0 0 0 0 0 0 0 0 0 0 0 0 0 0 0 0 0]\n",
            " [0 0 0 0 0 0 0 0 0 0 0 0 0 0 0 0 0 0 0 0 0 0 0 0 0 0 0 0]]\n"
          ]
        }
      ]
    },
    {
      "cell_type": "code",
      "source": [
        "from sklearn.ensemble import RandomForestClassifier\n",
        "\n",
        "# Create Random Forest classifier\n",
        "classifier = RandomForestClassifier(n_estimators=100)\n",
        "classifier.fit(X_chain_train, y_train)\n",
        "\n",
        "# Evaluate classifier\n",
        "train_accuracy = accuracy_score(y_train, classifier.predict(X_chain_train))\n",
        "test_accuracy = accuracy_score(y_test, classifier.predict(X_chain_test))\n",
        "#test_accuracy = accuracy_score(test_labels, classifier.predict(test_features))\n",
        "\n",
        "print(\"Training Accuracy:\", train_accuracy)\n",
        "print(\"test Accuracy:\", test_accuracy)\n",
        "#print(\"Test Accuracy:\", test_accuracy)"
      ],
      "metadata": {
        "colab": {
          "base_uri": "https://localhost:8080/"
        },
        "id": "pDXyAejGIoBv",
        "outputId": "9ff3f78a-3e75-4aa1-d54a-9f6dadb46045"
      },
      "execution_count": null,
      "outputs": [
        {
          "output_type": "stream",
          "name": "stdout",
          "text": [
            "Training Accuracy: 0.9947291666666667\n",
            "test Accuracy: 0.9269166666666667\n"
          ]
        }
      ]
    },
    {
      "cell_type": "markdown",
      "source": [
        "# KMeans without feature extraction"
      ],
      "metadata": {
        "id": "9sA_HcE1vbC5"
      }
    },
    {
      "cell_type": "code",
      "source": [
        "import numpy as np\n",
        "from sklearn.metrics import accuracy_score\n",
        "\n",
        "# Define k-means function\n",
        "def kmeans(X, k, max_iters=10000):\n",
        "    centroids = X[np.random.choice(X.shape[0], k, replace=False)]\n",
        "\n",
        "    for _ in range(max_iters):\n",
        "        distances = np.sqrt(((X - centroids[:, np.newaxis])**2).sum(axis=2))\n",
        "        labels = np.argmin(distances, axis=0)\n",
        "        new_centroids = np.array([X[labels == i].mean(axis=0) for i in range(k)])\n",
        "        if np.allclose(new_centroids, centroids):\n",
        "            break\n",
        "        centroids = new_centroids\n",
        "    return centroids, labels"
      ],
      "metadata": {
        "id": "EFdtr_P9tclS"
      },
      "execution_count": null,
      "outputs": []
    },
    {
      "cell_type": "code",
      "source": [
        "x=X_train.reshape(-1,28*28)"
      ],
      "metadata": {
        "id": "MjTTt6vUuKbY"
      },
      "execution_count": null,
      "outputs": []
    },
    {
      "cell_type": "code",
      "source": [
        "k = 10\n",
        "centroids, labels = kmeans(x, k)"
      ],
      "metadata": {
        "id": "1Br8j0T-thcE"
      },
      "execution_count": null,
      "outputs": []
    },
    {
      "cell_type": "code",
      "source": [
        "# Assign cluster labels\n",
        "cluster_labels = np.zeros_like(labels)\n",
        "for i in range(k):\n",
        "    mask = (labels == i)\n",
        "    cluster_labels[mask] = np.bincount(y_train[mask]).argmax()\n",
        "\n",
        "# Compute accuracy\n",
        "accuracy = accuracy_score(y_train, cluster_labels)\n",
        "print(\"Accuracy:\", accuracy)\n"
      ],
      "metadata": {
        "colab": {
          "base_uri": "https://localhost:8080/"
        },
        "id": "cHCJTefouiyg",
        "outputId": "f4bd9d8f-0d49-46b6-8fc4-eea28a1e4ab7"
      },
      "execution_count": null,
      "outputs": [
        {
          "output_type": "stream",
          "name": "stdout",
          "text": [
            "Accuracy: 0.5794166666666667\n"
          ]
        }
      ]
    },
    {
      "cell_type": "markdown",
      "metadata": {
        "id": "1hUcZ9i9lP2o"
      },
      "source": [
        "# *K means*\n",
        "using centroid and chain code feature extraction methods\n"
      ]
    },
    {
      "cell_type": "code",
      "execution_count": null,
      "metadata": {
        "id": "JA2iYPFyjky7"
      },
      "outputs": [],
      "source": [
        "import numpy as np\n",
        "from sklearn.metrics import accuracy_score\n",
        "\n",
        "# Define k-means function\n",
        "def kmeans(X, k, max_iters=10000):\n",
        "    centroids = X[np.random.choice(X.shape[0], k, replace=False)]\n",
        "\n",
        "    for _ in range(max_iters):\n",
        "        distances = np.sqrt(((X - centroids[:, np.newaxis])**2).sum(axis=2))\n",
        "        labels = np.argmin(distances, axis=0)\n",
        "        new_centroids = np.array([X[labels == i].mean(axis=0) for i in range(k)])\n",
        "        if np.allclose(new_centroids, centroids):\n",
        "            break\n",
        "        centroids = new_centroids\n",
        "    return centroids, labels"
      ]
    },
    {
      "cell_type": "code",
      "execution_count": null,
      "metadata": {
        "id": "rBBepQ7cjkvb"
      },
      "outputs": [],
      "source": [
        "k = 10\n",
        "centroids_cent, labels_cent = kmeans(X_cent_train, k)\n",
        "centroids_chain, labels_chain = kmeans(X_chain_train, k)"
      ]
    },
    {
      "cell_type": "code",
      "execution_count": null,
      "metadata": {
        "colab": {
          "base_uri": "https://localhost:8080/"
        },
        "id": "MQiuf12Xjks_",
        "outputId": "a36ea16a-0c7b-4712-ac4a-dbfe387405d5"
      },
      "outputs": [
        {
          "name": "stdout",
          "output_type": "stream",
          "text": [
            "Class 0: Actual = 4748, Centroids = 3444, Chain = 3738\n",
            "Class 1: Actual = 5420, Centroids = 3142, Chain = 3793\n",
            "Class 2: Actual = 4784, Centroids = 2713, Chain = 4024\n",
            "Class 3: Actual = 4912, Centroids = 13848, Chain = 4446\n",
            "Class 4: Actual = 4666, Centroids = 4840, Chain = 8099\n",
            "Class 5: Actual = 4317, Centroids = 2745, Chain = 4851\n",
            "Class 6: Actual = 4741, Centroids = 3770, Chain = 4190\n",
            "Class 7: Actual = 4966, Centroids = 2744, Chain = 5748\n",
            "Class 8: Actual = 4691, Centroids = 7068, Chain = 8893\n",
            "Class 9: Actual = 4755, Centroids = 3686, Chain = 218\n"
          ]
        }
      ],
      "source": [
        "# Count the number of samples in each class for the actual labels\n",
        "unique, counts = np.unique(y_train, return_counts=True)\n",
        "actual_counts = dict(zip(unique, counts))\n",
        "\n",
        "# Count the number of samples in each cluster for the centroids features\n",
        "unique, counts = np.unique(labels_cent, return_counts=True)\n",
        "cent_counts = dict(zip(unique, counts))\n",
        "\n",
        "# Count the number of samples in each cluster for the chain code features\n",
        "unique, counts = np.unique(labels_chain, return_counts=True)\n",
        "chain_counts = dict(zip(unique, counts))\n",
        "\n",
        "# Compare the counts\n",
        "for i in range(k):\n",
        "    print(\"Class {}: Actual = {}, Centroids = {}, Chain = {}\".format(i, actual_counts.get(i, 0), cent_counts.get(i, 0), chain_counts.get(i, 0)))\n"
      ]
    },
    {
      "cell_type": "code",
      "execution_count": null,
      "metadata": {
        "colab": {
          "base_uri": "https://localhost:8080/"
        },
        "id": "mgRsOodSl8y7",
        "outputId": "d1849491-fc35-48a1-b6b5-e99938fc6925"
      },
      "outputs": [
        {
          "name": "stdout",
          "output_type": "stream",
          "text": [
            "Class 0: Actual = 4748, Centroids = 3444, Chain = 3738\n",
            "Class 1: Actual = 5420, Centroids = 3142, Chain = 3793\n",
            "Class 2: Actual = 4784, Centroids = 2713, Chain = 4024\n",
            "Class 3: Actual = 4912, Centroids = 13848, Chain = 4446\n",
            "Class 4: Actual = 4666, Centroids = 4840, Chain = 8099\n",
            "Class 5: Actual = 4317, Centroids = 2745, Chain = 4851\n",
            "Class 6: Actual = 4741, Centroids = 3770, Chain = 4190\n",
            "Class 7: Actual = 4966, Centroids = 2744, Chain = 5748\n",
            "Class 8: Actual = 4691, Centroids = 7068, Chain = 8893\n",
            "Class 9: Actual = 4755, Centroids = 3686, Chain = 218\n"
          ]
        }
      ],
      "source": [
        "# Assuming you have the actual labels for the training data\n",
        "actual_labels = y_train\n",
        "# Count the number of samples in each class using actual labels\n",
        "actual_counts = np.bincount(actual_labels)\n",
        "\n",
        "# Count the number of samples in each class using k-means with centroids features\n",
        "centroids_counts = np.bincount(labels_cent)\n",
        "\n",
        "# Count the number of samples in each class using k-means with chain code features\n",
        "chain_counts = np.bincount(labels_chain)\n",
        "\n",
        "# Print the comparison results\n",
        "for i in range(10):\n",
        "    print(\"Class {}: Actual = {}, Centroids = {}, Chain = {}\".format(i, actual_counts[i], centroids_counts[i], chain_counts[i]))"
      ]
    },
    {
      "cell_type": "code",
      "execution_count": null,
      "metadata": {
        "colab": {
          "base_uri": "https://localhost:8080/"
        },
        "id": "9Kcypfraosv-",
        "outputId": "3ad8cf88-bb20-493e-9521-f795e6e7b626"
      },
      "outputs": [
        {
          "output_type": "stream",
          "name": "stdout",
          "text": [
            "Accuracy: 0.3631041666666667\n"
          ]
        }
      ],
      "source": [
        "# Assign cluster labels\n",
        "cluster_labels = np.zeros_like(labels_cent)\n",
        "for i in range(k):\n",
        "    mask = (labels_cent == i)\n",
        "    cluster_labels[mask] = np.bincount(y_train[mask]).argmax()\n",
        "\n",
        "# Compute accuracy\n",
        "accuracy = accuracy_score(y_train, cluster_labels)\n",
        "print(\"Accuracy:\", accuracy)\n"
      ]
    },
    {
      "cell_type": "code",
      "execution_count": null,
      "metadata": {
        "colab": {
          "base_uri": "https://localhost:8080/"
        },
        "id": "kHb7sEV6ow72",
        "outputId": "4efce597-3a9f-4590-9ef9-6be79cd99474"
      },
      "outputs": [
        {
          "output_type": "stream",
          "name": "stdout",
          "text": [
            "Accuracy: 0.4402083333333333\n"
          ]
        }
      ],
      "source": [
        "# Assign cluster labels\n",
        "cluster_labels = np.zeros_like(labels_chain)\n",
        "for i in range(k):\n",
        "    mask = (labels_chain == i)\n",
        "    cluster_labels[mask] = np.bincount(y_train[mask]).argmax()\n",
        "\n",
        "# Compute accuracy\n",
        "accuracy = accuracy_score(y_train, cluster_labels)\n",
        "print(\"Accuracy:\", accuracy)\n"
      ]
    },
    {
      "cell_type": "code",
      "execution_count": null,
      "metadata": {
        "colab": {
          "base_uri": "https://localhost:8080/"
        },
        "id": "8SWGDCLzpiNZ",
        "outputId": "72e59bb3-b47b-42e3-b3fa-6d22ff46fc58"
      },
      "outputs": [
        {
          "name": "stdout",
          "output_type": "stream",
          "text": [
            "Confusion Matrix:\n",
            "[[ 395   23   78  359  858 1050   87  662  138 1098]\n",
            " [  16    7   10 1931  142    2    4    4 3300    4]\n",
            " [1363   78  688 1163  910  111  114   54   50  253]\n",
            " [ 956   24 1047 1787  676   93   55   72   43  159]\n",
            " [ 166  188  255 1033  255  677  369  211 1020  492]\n",
            " [ 142  656  137 1279 1081  378   82   89  312  161]\n",
            " [ 213   18  101 1443  165   47   12 1267  992  483]\n",
            " [  19 1108  226  729   35   63 2426   71  208   81]\n",
            " [ 142   49  147 2582  688  191   43  219  371  259]\n",
            " [  32  991   24 1542   30  133  578   95  634  696]]\n"
          ]
        }
      ],
      "source": [
        "from sklearn.metrics import confusion_matrix\n",
        "\n",
        "# Generate confusion matrix\n",
        "conf_matrix = confusion_matrix(y_train, labels_cent)\n",
        "\n",
        "print(\"Confusion Matrix:\")\n",
        "print(conf_matrix)"
      ]
    },
    {
      "cell_type": "code",
      "execution_count": null,
      "metadata": {
        "colab": {
          "base_uri": "https://localhost:8080/"
        },
        "id": "56mcVp9UplVj",
        "outputId": "c64ec918-9d26-4b60-84e2-cc3b1a43a6d5"
      },
      "outputs": [
        {
          "output_type": "stream",
          "name": "stdout",
          "text": [
            "Confusion Matrix:\n",
            "[[1704   35  493  649  111 1588   30    1   73   64]\n",
            " [  23    0 4786    5   10  504    1    2    3   86]\n",
            " [ 162  225   28  188  368  151  801   17 1951  893]\n",
            " [ 329  367   35  666    6  148 2243    0  863  255]\n",
            " [  35    8  126    4 1854  180    1    1  296 2161]\n",
            " [ 238 1712   61  198  244  278  479    0  760  347]\n",
            " [  74   21  211   11 1324  944    6  196  262 1692]\n",
            " [ 628  497   94 1437   37  356 1473    1  205  238]\n",
            " [1472  151  222 1095  243  813  254    0  287  154]\n",
            " [1899   90  231  759  160 1308   82    0  143   83]]\n"
          ]
        }
      ],
      "source": [
        "from sklearn.metrics import confusion_matrix\n",
        "\n",
        "# Generate confusion matrix\n",
        "conf_matrix = confusion_matrix(y_train, labels_chain)\n",
        "\n",
        "print(\"Confusion Matrix:\")\n",
        "print(conf_matrix)"
      ]
    },
    {
      "cell_type": "markdown",
      "metadata": {
        "id": "uuwI1dqNqnBB"
      },
      "source": [
        "# *Use PCA*"
      ]
    },
    {
      "cell_type": "code",
      "execution_count": null,
      "metadata": {
        "id": "qV2982gxqmO5"
      },
      "outputs": [],
      "source": [
        "from sklearn.decomposition import PCA\n",
        "pca_cent = PCA(n_components=2)\n",
        "X_cent_train_pca = pca_cent.fit_transform(X_cent_train)\n",
        "\n",
        "# Apply PCA to chain code features\n",
        "pca_chain = PCA(n_components=2)\n",
        "X_chain_train_pca = pca_chain.fit_transform(X_chain_train)"
      ]
    },
    {
      "cell_type": "code",
      "execution_count": null,
      "metadata": {
        "id": "LCdd35i1qmLS"
      },
      "outputs": [],
      "source": [
        "k = 10\n",
        "centroids_cent, labels_cent = kmeans(X_cent_train_pca, k)\n",
        "centroids_chain, labels_chain = kmeans(X_chain_train_pca, k)"
      ]
    },
    {
      "cell_type": "code",
      "execution_count": null,
      "metadata": {
        "id": "b6E6-Yq5qmIz",
        "colab": {
          "base_uri": "https://localhost:8080/"
        },
        "outputId": "7fe02feb-42b9-47cc-f8d2-d611e4fd19bb"
      },
      "outputs": [
        {
          "output_type": "stream",
          "name": "stdout",
          "text": [
            "Accuracy: 0.30075\n"
          ]
        }
      ],
      "source": [
        "# Assign cluster labels\n",
        "cluster_labels = np.zeros_like(labels_cent)\n",
        "for i in range(k):\n",
        "    mask = (labels_cent == i)\n",
        "    cluster_labels[mask] = np.bincount(y_train[mask]).argmax()\n",
        "\n",
        "# Compute accuracy\n",
        "accuracy = accuracy_score(y_train, cluster_labels)\n",
        "print(\"Accuracy:\", accuracy)\n"
      ]
    },
    {
      "cell_type": "code",
      "execution_count": null,
      "metadata": {
        "id": "SYvaxtnCqmGN",
        "colab": {
          "base_uri": "https://localhost:8080/"
        },
        "outputId": "9707bff7-bcb5-40b1-f7cc-806aa01e349a"
      },
      "outputs": [
        {
          "output_type": "stream",
          "name": "stdout",
          "text": [
            "Accuracy: 0.4130625\n"
          ]
        }
      ],
      "source": [
        "# Assign cluster labels\n",
        "cluster_labels = np.zeros_like(labels_chain)\n",
        "for i in range(k):\n",
        "    mask = (labels_chain == i)\n",
        "    cluster_labels[mask] = np.bincount(y_train[mask]).argmax()\n",
        "\n",
        "# Compute accuracy\n",
        "accuracy = accuracy_score(y_train, cluster_labels)\n",
        "print(\"Accuracy:\", accuracy)\n"
      ]
    },
    {
      "cell_type": "code",
      "execution_count": null,
      "metadata": {
        "id": "XKaCdielqES1",
        "colab": {
          "base_uri": "https://localhost:8080/"
        },
        "outputId": "7cf0b66c-24e3-4392-ca6f-7f7aef550830"
      },
      "outputs": [
        {
          "output_type": "stream",
          "name": "stdout",
          "text": [
            "Confusion Matrix:\n",
            "[[ 781  615   97 1331  205  180   19   44  831  645]\n",
            " [  27    0 3129    2 1892    7   34  175  145    9]\n",
            " [ 559  274   44  321  556  527  606  127  250 1520]\n",
            " [ 509  211   24  276 1158  708  771   62  142 1051]\n",
            " [ 478  863  716   46  419  333  437  381  964   29]\n",
            " [ 836  224  381  189  437  302   97  358  884  609]\n",
            " [ 909  367  877   47 1255  278  473   76  401   58]\n",
            " [ 175   58 1122    2  532   78  324 2109  558    8]\n",
            " [1149  122  331   79 1537  266  301  100  280  526]\n",
            " [ 588  550 1497   27 1025  128   91  211  594   44]]\n"
          ]
        }
      ],
      "source": [
        "from sklearn.metrics import confusion_matrix\n",
        "\n",
        "# Generate confusion matrix\n",
        "conf_matrix = confusion_matrix(y_train, labels_cent)\n",
        "\n",
        "print(\"Confusion Matrix:\")\n",
        "print(conf_matrix)"
      ]
    },
    {
      "cell_type": "code",
      "execution_count": null,
      "metadata": {
        "id": "RB4o2I5fp2Li",
        "colab": {
          "base_uri": "https://localhost:8080/"
        },
        "outputId": "0299953f-2529-4e0f-a43a-8f48a56fe6dc"
      },
      "outputs": [
        {
          "output_type": "stream",
          "name": "stdout",
          "text": [
            "Confusion Matrix:\n",
            "[[1704   35  493  649  111 1588   30    1   73   64]\n",
            " [  23    0 4786    5   10  504    1    2    3   86]\n",
            " [ 162  225   28  188  368  151  801   17 1951  893]\n",
            " [ 329  367   35  666    6  148 2243    0  863  255]\n",
            " [  35    8  126    4 1854  180    1    1  296 2161]\n",
            " [ 238 1712   61  198  244  278  479    0  760  347]\n",
            " [  74   21  211   11 1324  944    6  196  262 1692]\n",
            " [ 628  497   94 1437   37  356 1473    1  205  238]\n",
            " [1472  151  222 1095  243  813  254    0  287  154]\n",
            " [1899   90  231  759  160 1308   82    0  143   83]]\n"
          ]
        }
      ],
      "source": [
        "from sklearn.metrics import confusion_matrix\n",
        "\n",
        "# Generate confusion matrix\n",
        "conf_matrix = confusion_matrix(y_train, labels_chain)\n",
        "\n",
        "print(\"Confusion Matrix:\")\n",
        "print(conf_matrix)"
      ]
    }
  ],
  "metadata": {
    "accelerator": "GPU",
    "colab": {
      "collapsed_sections": [
        "4JItbg5ikxLH",
        "XjsdCDK-s9xw"
      ],
      "gpuType": "T4",
      "provenance": []
    },
    "kernelspec": {
      "display_name": "Python 3",
      "name": "python3"
    },
    "language_info": {
      "name": "python"
    }
  },
  "nbformat": 4,
  "nbformat_minor": 0
}